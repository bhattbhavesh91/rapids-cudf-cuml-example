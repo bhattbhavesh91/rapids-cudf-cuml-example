{
 "cells": [
  {
   "cell_type": "code",
   "execution_count": 1,
   "id": "03c16591",
   "metadata": {},
   "outputs": [],
   "source": [
    "import numpy as np\n",
    "import pandas as pd\n",
    "import sys\n",
    "import sklearn\n",
    "from sklearn import preprocessing \n",
    "import pandas as pd\n",
    "from sklearn.utils import resample\n",
    "from sklearn.model_selection import train_test_split\n",
    "from sklearn.model_selection import GridSearchCV\n",
    "from sklearn.feature_selection import SelectFromModel\n",
    "from sklearn.metrics import classification_report, confusion_matrix, accuracy_score, roc_curve, auc\n",
    "from sklearn.preprocessing import OrdinalEncoder, StandardScaler\n",
    "import cudf\n",
    "import cupy\n",
    "import psutil \n",
    "import gc\n",
    "from cuml.ensemble import RandomForestClassifier as curfc\n",
    "from sklearn.ensemble import RandomForestClassifier as skrfc\n",
    "from cuml import make_regression\n",
    "from cuml.linear_model import LinearRegression as cuLinearRegression\n",
    "from cuml.metrics.regression import r2_score\n",
    "from sklearn.linear_model import LinearRegression as skLinearRegression\n",
    "from cuml.neighbors import KNeighborsClassifier as KNeighborsC\n",
    "from sklearn.neighbors import KNeighborsClassifier\n",
    "from cuml.linear_model import MBSGDClassifier as cumlMBSGDClassifier\n",
    "from sklearn.linear_model import SGDClassifier\n",
    "from sklearn.preprocessing import StandardScaler\n",
    "from sklearn.pipeline import make_pipeline\n",
    "from cuml import Ridge\n",
    "from cuml.linear_model import Ridge\n",
    "from sklearn.linear_model import Ridge\n",
    "from cuml import LogisticRegression\n",
    "from sklearn.linear_model import LogisticRegression as skLogistic\n",
    "from cuml.linear_model import ElasticNet\n",
    "from sklearn import linear_model\n",
    "from cuml.linear_model import Lasso\n",
    "from cuml.solvers import SGD as cumlSGD"
   ]
  },
  {
   "cell_type": "code",
   "execution_count": 2,
   "id": "b9ba9ca7",
   "metadata": {},
   "outputs": [
    {
     "name": "stdout",
     "output_type": "stream",
     "text": [
      "CPU times: user 7.65 s, sys: 1.12 s, total: 8.77 s\n",
      "Wall time: 13.4 s\n",
      "         Severity  Start_Lat   Start_Lng    End_Lat     End_Lng  Distance(mi)  \\\n",
      "0               3  40.108910  -83.092860  40.112060  -83.031870         3.230   \n",
      "1               2  39.865420  -84.062800  39.865010  -84.048730         0.747   \n",
      "2               2  39.102660  -84.524680  39.102090  -84.523960         0.055   \n",
      "3               2  41.062130  -81.537840  41.062170  -81.535470         0.123   \n",
      "4               3  39.172393  -84.492792  39.170476  -84.501798         0.500   \n",
      "...           ...        ...         ...        ...         ...           ...   \n",
      "2845336         2  34.239104 -118.416176  34.239104 -118.416176         0.000   \n",
      "2845337         2  34.002480 -117.379360  33.998880 -117.370940         0.543   \n",
      "2845338         2  32.766960 -117.148060  32.765550 -117.153630         0.338   \n",
      "2845339         2  33.775450 -117.847790  33.777400 -117.857270         0.561   \n",
      "2845340         2  33.992460 -118.403020  33.983110 -118.395650         0.772   \n",
      "\n",
      "              County State  Temperature(F)  Humidity(%)  ...  Station   Stop  \\\n",
      "0           Franklin    OH            42.1         58.0  ...    False  False   \n",
      "1         Montgomery    OH            36.9         91.0  ...    False  False   \n",
      "2           Hamilton    OH            36.0         97.0  ...    False  False   \n",
      "3             Summit    OH            39.0         55.0  ...    False  False   \n",
      "4           Hamilton    OH            37.0         93.0  ...    False  False   \n",
      "...              ...   ...             ...          ...  ...      ...    ...   \n",
      "2845336  Los Angeles    CA            81.0         48.0  ...    False  False   \n",
      "2845337    Riverside    CA            86.0         40.0  ...    False  False   \n",
      "2845338    San Diego    CA            70.0         73.0  ...    False  False   \n",
      "2845339       Orange    CA            73.0         64.0  ...    False  False   \n",
      "2845340  Los Angeles    CA            71.0         81.0  ...    False  False   \n",
      "\n",
      "        Traffic_Calming  Traffic_Signal  Turning_Loop  Sunrise_Sunset  \\\n",
      "0                 False           False         False           Night   \n",
      "1                 False           False         False           Night   \n",
      "2                 False           False         False           Night   \n",
      "3                 False           False         False           Night   \n",
      "4                 False           False         False             Day   \n",
      "...                 ...             ...           ...             ...   \n",
      "2845336           False           False         False             Day   \n",
      "2845337           False           False         False             Day   \n",
      "2845338           False           False         False             Day   \n",
      "2845339           False           False         False             Day   \n",
      "2845340           False           False         False             Day   \n",
      "\n",
      "         Civil_Twilight  Nautical_Twilight  Astronomical_Twilight  \\\n",
      "0                 Night              Night                  Night   \n",
      "1                 Night              Night                  Night   \n",
      "2                 Night              Night                    Day   \n",
      "3                 Night                Day                    Day   \n",
      "4                   Day                Day                    Day   \n",
      "...                 ...                ...                    ...   \n",
      "2845336             Day                Day                    Day   \n",
      "2845337             Day                Day                    Day   \n",
      "2845338             Day                Day                    Day   \n",
      "2845339             Day                Day                    Day   \n",
      "2845340             Day                Day                    Day   \n",
      "\n",
      "                  out  \n",
      "0        5.198541e+00  \n",
      "1        1.201714e+00  \n",
      "2        8.875308e-02  \n",
      "3        1.987522e-01  \n",
      "4        8.050930e-01  \n",
      "...               ...  \n",
      "2845336  8.566425e-13  \n",
      "2845337  8.733337e-01  \n",
      "2845338  5.438949e-01  \n",
      "2845339  9.026354e-01  \n",
      "2845340  1.242030e+00  \n",
      "\n",
      "[2845341 rows x 31 columns]\n"
     ]
    }
   ],
   "source": [
    "%time df = pd.read_csv('data_proc.csv')\n",
    "print(df)"
   ]
  },
  {
   "cell_type": "code",
   "execution_count": 3,
   "id": "6f65e2f8",
   "metadata": {},
   "outputs": [
    {
     "data": {
      "text/html": [
       "<div>\n",
       "<style scoped>\n",
       "    .dataframe tbody tr th:only-of-type {\n",
       "        vertical-align: middle;\n",
       "    }\n",
       "\n",
       "    .dataframe tbody tr th {\n",
       "        vertical-align: top;\n",
       "    }\n",
       "\n",
       "    .dataframe thead th {\n",
       "        text-align: right;\n",
       "    }\n",
       "</style>\n",
       "<table border=\"1\" class=\"dataframe\">\n",
       "  <thead>\n",
       "    <tr style=\"text-align: right;\">\n",
       "      <th></th>\n",
       "      <th>Severity</th>\n",
       "      <th>Start_Lat</th>\n",
       "      <th>Start_Lng</th>\n",
       "      <th>End_Lat</th>\n",
       "      <th>End_Lng</th>\n",
       "      <th>Distance(mi)</th>\n",
       "      <th>County</th>\n",
       "      <th>State</th>\n",
       "      <th>Temperature(F)</th>\n",
       "      <th>Humidity(%)</th>\n",
       "      <th>...</th>\n",
       "      <th>Station</th>\n",
       "      <th>Stop</th>\n",
       "      <th>Traffic_Calming</th>\n",
       "      <th>Traffic_Signal</th>\n",
       "      <th>Turning_Loop</th>\n",
       "      <th>Sunrise_Sunset</th>\n",
       "      <th>Civil_Twilight</th>\n",
       "      <th>Nautical_Twilight</th>\n",
       "      <th>Astronomical_Twilight</th>\n",
       "      <th>out</th>\n",
       "    </tr>\n",
       "  </thead>\n",
       "  <tbody>\n",
       "    <tr>\n",
       "      <th>0</th>\n",
       "      <td>3</td>\n",
       "      <td>40.108910</td>\n",
       "      <td>-83.092860</td>\n",
       "      <td>40.112060</td>\n",
       "      <td>-83.031870</td>\n",
       "      <td>3.230</td>\n",
       "      <td>Franklin</td>\n",
       "      <td>OH</td>\n",
       "      <td>42.1</td>\n",
       "      <td>58.0</td>\n",
       "      <td>...</td>\n",
       "      <td>False</td>\n",
       "      <td>False</td>\n",
       "      <td>False</td>\n",
       "      <td>False</td>\n",
       "      <td>False</td>\n",
       "      <td>Night</td>\n",
       "      <td>Night</td>\n",
       "      <td>Night</td>\n",
       "      <td>Night</td>\n",
       "      <td>5.198541</td>\n",
       "    </tr>\n",
       "    <tr>\n",
       "      <th>1</th>\n",
       "      <td>2</td>\n",
       "      <td>39.865420</td>\n",
       "      <td>-84.062800</td>\n",
       "      <td>39.865010</td>\n",
       "      <td>-84.048730</td>\n",
       "      <td>0.747</td>\n",
       "      <td>Montgomery</td>\n",
       "      <td>OH</td>\n",
       "      <td>36.9</td>\n",
       "      <td>91.0</td>\n",
       "      <td>...</td>\n",
       "      <td>False</td>\n",
       "      <td>False</td>\n",
       "      <td>False</td>\n",
       "      <td>False</td>\n",
       "      <td>False</td>\n",
       "      <td>Night</td>\n",
       "      <td>Night</td>\n",
       "      <td>Night</td>\n",
       "      <td>Night</td>\n",
       "      <td>1.201714</td>\n",
       "    </tr>\n",
       "    <tr>\n",
       "      <th>2</th>\n",
       "      <td>2</td>\n",
       "      <td>39.102660</td>\n",
       "      <td>-84.524680</td>\n",
       "      <td>39.102090</td>\n",
       "      <td>-84.523960</td>\n",
       "      <td>0.055</td>\n",
       "      <td>Hamilton</td>\n",
       "      <td>OH</td>\n",
       "      <td>36.0</td>\n",
       "      <td>97.0</td>\n",
       "      <td>...</td>\n",
       "      <td>False</td>\n",
       "      <td>False</td>\n",
       "      <td>False</td>\n",
       "      <td>False</td>\n",
       "      <td>False</td>\n",
       "      <td>Night</td>\n",
       "      <td>Night</td>\n",
       "      <td>Night</td>\n",
       "      <td>Day</td>\n",
       "      <td>0.088753</td>\n",
       "    </tr>\n",
       "    <tr>\n",
       "      <th>3</th>\n",
       "      <td>2</td>\n",
       "      <td>41.062130</td>\n",
       "      <td>-81.537840</td>\n",
       "      <td>41.062170</td>\n",
       "      <td>-81.535470</td>\n",
       "      <td>0.123</td>\n",
       "      <td>Summit</td>\n",
       "      <td>OH</td>\n",
       "      <td>39.0</td>\n",
       "      <td>55.0</td>\n",
       "      <td>...</td>\n",
       "      <td>False</td>\n",
       "      <td>False</td>\n",
       "      <td>False</td>\n",
       "      <td>False</td>\n",
       "      <td>False</td>\n",
       "      <td>Night</td>\n",
       "      <td>Night</td>\n",
       "      <td>Day</td>\n",
       "      <td>Day</td>\n",
       "      <td>0.198752</td>\n",
       "    </tr>\n",
       "    <tr>\n",
       "      <th>4</th>\n",
       "      <td>3</td>\n",
       "      <td>39.172393</td>\n",
       "      <td>-84.492792</td>\n",
       "      <td>39.170476</td>\n",
       "      <td>-84.501798</td>\n",
       "      <td>0.500</td>\n",
       "      <td>Hamilton</td>\n",
       "      <td>OH</td>\n",
       "      <td>37.0</td>\n",
       "      <td>93.0</td>\n",
       "      <td>...</td>\n",
       "      <td>False</td>\n",
       "      <td>False</td>\n",
       "      <td>False</td>\n",
       "      <td>False</td>\n",
       "      <td>False</td>\n",
       "      <td>Day</td>\n",
       "      <td>Day</td>\n",
       "      <td>Day</td>\n",
       "      <td>Day</td>\n",
       "      <td>0.805093</td>\n",
       "    </tr>\n",
       "  </tbody>\n",
       "</table>\n",
       "<p>5 rows × 31 columns</p>\n",
       "</div>"
      ],
      "text/plain": [
       "   Severity  Start_Lat  Start_Lng    End_Lat    End_Lng  Distance(mi)  \\\n",
       "0         3  40.108910 -83.092860  40.112060 -83.031870         3.230   \n",
       "1         2  39.865420 -84.062800  39.865010 -84.048730         0.747   \n",
       "2         2  39.102660 -84.524680  39.102090 -84.523960         0.055   \n",
       "3         2  41.062130 -81.537840  41.062170 -81.535470         0.123   \n",
       "4         3  39.172393 -84.492792  39.170476 -84.501798         0.500   \n",
       "\n",
       "       County State  Temperature(F)  Humidity(%)  ...  Station   Stop  \\\n",
       "0    Franklin    OH            42.1         58.0  ...    False  False   \n",
       "1  Montgomery    OH            36.9         91.0  ...    False  False   \n",
       "2    Hamilton    OH            36.0         97.0  ...    False  False   \n",
       "3      Summit    OH            39.0         55.0  ...    False  False   \n",
       "4    Hamilton    OH            37.0         93.0  ...    False  False   \n",
       "\n",
       "  Traffic_Calming  Traffic_Signal  Turning_Loop  Sunrise_Sunset  \\\n",
       "0           False           False         False           Night   \n",
       "1           False           False         False           Night   \n",
       "2           False           False         False           Night   \n",
       "3           False           False         False           Night   \n",
       "4           False           False         False             Day   \n",
       "\n",
       "   Civil_Twilight  Nautical_Twilight  Astronomical_Twilight       out  \n",
       "0           Night              Night                  Night  5.198541  \n",
       "1           Night              Night                  Night  1.201714  \n",
       "2           Night              Night                    Day  0.088753  \n",
       "3           Night                Day                    Day  0.198752  \n",
       "4             Day                Day                    Day  0.805093  \n",
       "\n",
       "[5 rows x 31 columns]"
      ]
     },
     "execution_count": 3,
     "metadata": {},
     "output_type": "execute_result"
    }
   ],
   "source": [
    "df.head()"
   ]
  },
  {
   "cell_type": "code",
   "execution_count": 4,
   "id": "3d716243",
   "metadata": {},
   "outputs": [],
   "source": [
    "df = df.dropna()"
   ]
  },
  {
   "cell_type": "code",
   "execution_count": 5,
   "id": "1ce43e2b",
   "metadata": {},
   "outputs": [
    {
     "data": {
      "text/plain": [
       "2    2532990\n",
       "3     155105\n",
       "4     131193\n",
       "1      26053\n",
       "Name: Severity, dtype: int64"
      ]
     },
     "execution_count": 5,
     "metadata": {},
     "output_type": "execute_result"
    }
   ],
   "source": [
    "df['Severity'].value_counts()"
   ]
  },
  {
   "cell_type": "code",
   "execution_count": 6,
   "id": "ac9b7df4",
   "metadata": {},
   "outputs": [
    {
     "data": {
      "text/plain": [
       "49.815534928160844"
      ]
     },
     "execution_count": 6,
     "metadata": {},
     "output_type": "execute_result"
    }
   ],
   "source": [
    "psutil.virtual_memory().available * 100 / psutil.virtual_memory().total"
   ]
  },
  {
   "cell_type": "code",
   "execution_count": 7,
   "id": "c227586a",
   "metadata": {},
   "outputs": [],
   "source": [
    "# Separate majority and minority classes\n",
    "df_s1 = df[df['Severity']==1]\n",
    "df_s2 = df[df['Severity']==2]\n",
    "df_s3 = df[df['Severity']==3]\n",
    "df_s4 = df[df['Severity']==4]"
   ]
  },
  {
   "cell_type": "code",
   "execution_count": 8,
   "id": "cf13716c",
   "metadata": {},
   "outputs": [],
   "source": [
    "count = min(df_s1.count()[0], df_s2.count()[0], df_s3.count()[0], df_s4.count()[0])"
   ]
  },
  {
   "cell_type": "code",
   "execution_count": null,
   "id": "1c9b47ee",
   "metadata": {},
   "outputs": [],
   "source": []
  },
  {
   "cell_type": "code",
   "execution_count": 10,
   "id": "f65fe46f",
   "metadata": {},
   "outputs": [],
   "source": [
    "df_s1 = resample(df_s1, replace=df_s1.count()[0]<count, n_samples=count, random_state=42)"
   ]
  },
  {
   "cell_type": "code",
   "execution_count": 11,
   "id": "2996d377",
   "metadata": {},
   "outputs": [],
   "source": [
    "df_s2 = resample(df_s2, replace=df_s2.count()[0]<count, n_samples=count, random_state=42)"
   ]
  },
  {
   "cell_type": "code",
   "execution_count": 12,
   "id": "878f8257",
   "metadata": {},
   "outputs": [],
   "source": [
    "df_s3 = resample(df_s3, replace=df_s3.count()[0]<count, n_samples=count, random_state=42)"
   ]
  },
  {
   "cell_type": "code",
   "execution_count": 13,
   "id": "7ce7a6a1",
   "metadata": {},
   "outputs": [],
   "source": [
    "df_s4 = resample(df_s4, replace=df_s4.count()[0]<count, n_samples=count, random_state=42)"
   ]
  },
  {
   "cell_type": "code",
   "execution_count": 14,
   "id": "6d92257d",
   "metadata": {},
   "outputs": [],
   "source": [
    "df_s12 = pd.concat([df_s1, df_s2])"
   ]
  },
  {
   "cell_type": "code",
   "execution_count": 15,
   "id": "2bfdc688",
   "metadata": {},
   "outputs": [],
   "source": [
    "df_s34 = pd.concat([df_s3, df_s4])"
   ]
  },
  {
   "cell_type": "code",
   "execution_count": null,
   "id": "5a524573",
   "metadata": {},
   "outputs": [],
   "source": []
  },
  {
   "cell_type": "code",
   "execution_count": 17,
   "id": "a83b1cf6",
   "metadata": {},
   "outputs": [],
   "source": [
    "df = pd.concat([df_s12, df_s34])"
   ]
  },
  {
   "cell_type": "code",
   "execution_count": null,
   "id": "0b2f34a6",
   "metadata": {},
   "outputs": [],
   "source": []
  },
  {
   "cell_type": "code",
   "execution_count": 19,
   "id": "318373a6",
   "metadata": {},
   "outputs": [
    {
     "data": {
      "text/plain": [
       "Severity\n",
       "1    26053\n",
       "2    26053\n",
       "3    26053\n",
       "4    26053\n",
       "Name: Severity, dtype: int64"
      ]
     },
     "execution_count": 19,
     "metadata": {},
     "output_type": "execute_result"
    }
   ],
   "source": [
    "df.groupby(by='Severity')['Severity'].count()"
   ]
  },
  {
   "cell_type": "code",
   "execution_count": null,
   "id": "aa9988c9",
   "metadata": {},
   "outputs": [],
   "source": []
  },
  {
   "cell_type": "code",
   "execution_count": 20,
   "id": "212c7945",
   "metadata": {},
   "outputs": [
    {
     "name": "stdout",
     "output_type": "stream",
     "text": [
      "CPU times: user 211 ms, sys: 10.4 ms, total: 221 ms\n",
      "Wall time: 216 ms\n"
     ]
    }
   ],
   "source": [
    "%%time\n",
    "# Set the target for the prediction\n",
    "target='Severity' \n",
    "cols = df.select_dtypes(include='object').columns\n",
    "\n",
    "# set X and y\n",
    "y = df[target]\n",
    "X = df.drop(target, axis=1)\n",
    "\n",
    "# Create the encoder.\n",
    "encoder = OrdinalEncoder()\n",
    "X[cols] = encoder.fit_transform(X[cols])"
   ]
  },
  {
   "cell_type": "code",
   "execution_count": null,
   "id": "eece3b19",
   "metadata": {},
   "outputs": [],
   "source": []
  },
  {
   "cell_type": "code",
   "execution_count": 21,
   "id": "16429078",
   "metadata": {},
   "outputs": [],
   "source": [
    "X_train, X_test, y_train, y_test = train_test_split(X, y,  test_size = 0.3, random_state=0)"
   ]
  },
  {
   "cell_type": "code",
   "execution_count": null,
   "id": "cae863d5",
   "metadata": {},
   "outputs": [],
   "source": []
  },
  {
   "cell_type": "code",
   "execution_count": 23,
   "id": "e73041c9",
   "metadata": {},
   "outputs": [
    {
     "name": "stdout",
     "output_type": "stream",
     "text": [
      "CPU times: user 119 ms, sys: 59.7 ms, total: 178 ms\n",
      "Wall time: 175 ms\n"
     ]
    },
    {
     "data": {
      "text/plain": [
       "KNeighborsClassifier(n_neighbors=3)"
      ]
     },
     "execution_count": 23,
     "metadata": {},
     "output_type": "execute_result"
    }
   ],
   "source": [
    "%%time\n",
    "neigh = KNeighborsClassifier(n_neighbors=3)\n",
    "neigh.fit(X_train, y_train)"
   ]
  },
  {
   "cell_type": "code",
   "execution_count": 24,
   "id": "ae330daf",
   "metadata": {},
   "outputs": [
    {
     "name": "stdout",
     "output_type": "stream",
     "text": [
      "0.5449078812691914\n",
      "CPU times: user 2min 10s, sys: 3min 42s, total: 5min 52s\n",
      "Wall time: 1min 8s\n"
     ]
    }
   ],
   "source": [
    "%%time\n",
    "print(neigh.score(X_test, y_test))"
   ]
  },
  {
   "cell_type": "code",
   "execution_count": 25,
   "id": "cab5a373",
   "metadata": {},
   "outputs": [
    {
     "name": "stdout",
     "output_type": "stream",
     "text": [
      "CPU times: user 3.93 s, sys: 1.78 s, total: 5.7 s\n",
      "Wall time: 7.13 s\n"
     ]
    }
   ],
   "source": [
    "%%time\n",
    "#Convert the data to CuDF dataframes here\n",
    "X_cudf_train = cudf.DataFrame.from_pandas(X_train)\n",
    "X_cudf_test = cudf.DataFrame.from_pandas(X_test)\n",
    "\n",
    "y_cudf_train = cudf.Series(y_train.values)\n",
    "y_cudf_test = cudf.Series(y_test.values)"
   ]
  },
  {
   "cell_type": "code",
   "execution_count": null,
   "id": "370d30c8",
   "metadata": {},
   "outputs": [],
   "source": []
  },
  {
   "cell_type": "code",
   "execution_count": 26,
   "id": "eff0a086",
   "metadata": {},
   "outputs": [
    {
     "name": "stdout",
     "output_type": "stream",
     "text": [
      "CPU times: user 356 ms, sys: 79.5 ms, total: 435 ms\n",
      "Wall time: 837 ms\n"
     ]
    },
    {
     "data": {
      "text/plain": [
       "KNeighborsClassifier()"
      ]
     },
     "execution_count": 26,
     "metadata": {},
     "output_type": "execute_result"
    }
   ],
   "source": [
    "%%time\n",
    "knn = KNeighborsC(n_neighbors=10)\n",
    "knn.fit(X_cudf_train, y_cudf_train)"
   ]
  },
  {
   "cell_type": "code",
   "execution_count": 27,
   "id": "fee1b6fd",
   "metadata": {},
   "outputs": [
    {
     "name": "stdout",
     "output_type": "stream",
     "text": [
      "0.556006908416748\n",
      "CPU times: user 471 ms, sys: 9.66 ms, total: 480 ms\n",
      "Wall time: 540 ms\n"
     ]
    }
   ],
   "source": [
    "%%time\n",
    "print(knn.score(X_cudf_test, y_test))"
   ]
  },
  {
   "cell_type": "code",
   "execution_count": null,
   "id": "22e23441",
   "metadata": {},
   "outputs": [],
   "source": []
  }
 ],
 "metadata": {
  "kernelspec": {
   "display_name": "Python 3 (ipykernel)",
   "language": "python",
   "name": "python3"
  },
  "language_info": {
   "codemirror_mode": {
    "name": "ipython",
    "version": 3
   },
   "file_extension": ".py",
   "mimetype": "text/x-python",
   "name": "python",
   "nbconvert_exporter": "python",
   "pygments_lexer": "ipython3",
   "version": "3.9.12"
  }
 },
 "nbformat": 4,
 "nbformat_minor": 5
}
